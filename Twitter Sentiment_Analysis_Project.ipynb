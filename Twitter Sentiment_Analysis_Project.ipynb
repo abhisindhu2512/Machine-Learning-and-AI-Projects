{
 "cells": [
  {
   "cell_type": "code",
   "execution_count": null,
   "metadata": {
    "id": "-cydfyfqlgX0",
    "outputId": "4e505899-694a-46a8-84a2-d6674f02f8cc"
   },
   "outputs": [
    {
     "name": "stdout",
     "output_type": "stream",
     "text": [
      "Tracking: ['Narendra Modi']\n",
      "You are now connected to the streaming API.\n",
      "Tweet collected at 2020-02-15 21:00:05+00:00\n",
      "Tweet collected at 2020-02-15 21:00:16+00:00\n",
      "Tweet collected at 2020-02-15 21:02:47+00:00\n",
      "Tweet collected at 2020-02-15 21:02:51+00:00\n",
      "Tweet collected at 2020-02-15 21:03:11+00:00\n",
      "Tweet collected at 2020-02-15 21:03:57+00:00\n",
      "Tweet collected at 2020-02-15 21:04:15+00:00\n",
      "Tweet collected at 2020-02-15 21:05:03+00:00\n",
      "Tweet collected at 2020-02-15 21:05:53+00:00\n",
      "Tweet collected at 2020-02-15 21:07:44+00:00\n",
      "Tweet collected at 2020-02-15 21:07:58+00:00\n",
      "Tweet collected at 2020-02-15 21:08:11+00:00\n",
      "Tweet collected at 2020-02-15 21:08:45+00:00\n",
      "Tweet collected at 2020-02-15 21:09:33+00:00\n",
      "Tweet collected at 2020-02-15 21:09:44+00:00\n",
      "Tweet collected at 2020-02-15 21:12:14+00:00\n",
      "Tweet collected at 2020-02-15 21:12:26+00:00\n",
      "Tweet collected at 2020-02-15 21:12:39+00:00\n",
      "Tweet collected at 2020-02-15 21:12:58+00:00\n",
      "Tweet collected at 2020-02-15 21:14:27+00:00\n",
      "Tweet collected at 2020-02-15 21:14:31+00:00\n",
      "Tweet collected at 2020-02-15 21:15:25+00:00\n",
      "Tweet collected at 2020-02-15 21:15:36+00:00\n",
      "Tweet collected at 2020-02-15 21:18:05+00:00\n",
      "Tweet collected at 2020-02-15 21:18:15+00:00\n",
      "Tweet collected at 2020-02-15 21:18:40+00:00\n",
      "Tweet collected at 2020-02-15 21:18:47+00:00\n",
      "Tweet collected at 2020-02-15 21:19:47+00:00\n",
      "Tweet collected at 2020-02-15 21:19:56+00:00\n",
      "Tweet collected at 2020-02-15 21:20:05+00:00\n",
      "Tweet collected at 2020-02-15 21:20:12+00:00\n",
      "Tweet collected at 2020-02-15 21:20:41+00:00\n",
      "Tweet collected at 2020-02-15 21:22:00+00:00\n",
      "Tweet collected at 2020-02-15 21:22:26+00:00\n",
      "Tweet collected at 2020-02-15 21:22:38+00:00\n",
      "Tweet collected at 2020-02-15 21:23:52+00:00\n",
      "Tweet collected at 2020-02-15 21:24:17+00:00\n",
      "Tweet collected at 2020-02-15 21:24:25+00:00\n",
      "Tweet collected at 2020-02-15 21:24:35+00:00\n",
      "Tweet collected at 2020-02-15 21:25:16+00:00\n",
      "Tweet collected at 2020-02-15 21:26:21+00:00\n",
      "Tweet collected at 2020-02-15 21:26:54+00:00\n",
      "Tweet collected at 2020-02-15 21:27:50+00:00\n",
      "Tweet collected at 2020-02-15 21:29:28+00:00\n",
      "Tweet collected at 2020-02-15 21:29:32+00:00\n",
      "Tweet collected at 2020-02-15 21:30:29+00:00\n",
      "Tweet collected at 2020-02-15 21:30:31+00:00\n",
      "Tweet collected at 2020-02-15 21:32:21+00:00\n",
      "Tweet collected at 2020-02-15 21:32:46+00:00\n",
      "Tweet collected at 2020-02-15 21:32:56+00:00\n",
      "Tweet collected at 2020-02-15 21:34:08+00:00\n",
      "Tweet collected at 2020-02-15 21:34:22+00:00\n",
      "Tweet collected at 2020-02-15 21:36:53+00:00\n",
      "Tweet collected at 2020-02-15 21:37:27+00:00\n",
      "Tweet collected at 2020-02-15 21:37:42+00:00\n",
      "Tweet collected at 2020-02-15 21:39:11+00:00\n",
      "Tweet collected at 2020-02-15 21:41:17+00:00\n",
      "Tweet collected at 2020-02-15 21:47:55+00:00\n",
      "Tweet collected at 2020-02-15 21:48:06+00:00\n",
      "Tweet collected at 2020-02-15 21:48:33+00:00\n",
      "Tweet collected at 2020-02-15 21:49:00+00:00\n",
      "Tweet collected at 2020-02-15 21:49:18+00:00\n",
      "Tweet collected at 2020-02-15 21:50:24+00:00\n",
      "Tweet collected at 2020-02-15 21:50:38+00:00\n",
      "Tweet collected at 2020-02-15 21:51:08+00:00\n",
      "Tweet collected at 2020-02-15 21:51:27+00:00\n",
      "Tweet collected at 2020-02-15 21:51:45+00:00\n",
      "Tweet collected at 2020-02-15 21:52:47+00:00\n",
      "Tweet collected at 2020-02-15 21:53:09+00:00\n",
      "Tweet collected at 2020-02-15 21:53:48+00:00\n",
      "Tweet collected at 2020-02-15 21:54:51+00:00\n",
      "Tweet collected at 2020-02-15 21:55:20+00:00\n",
      "Tweet collected at 2020-02-15 21:55:23+00:00\n",
      "Tweet collected at 2020-02-15 21:55:32+00:00\n",
      "Tweet collected at 2020-02-15 21:57:08+00:00\n",
      "Tweet collected at 2020-02-15 21:58:50+00:00\n",
      "Tweet collected at 2020-02-15 21:59:26+00:00\n",
      "Tweet collected at 2020-02-15 21:59:38+00:00\n",
      "Tweet collected at 2020-02-15 21:59:54+00:00\n",
      "Tweet collected at 2020-02-15 22:00:00+00:00\n",
      "Tweet collected at 2020-02-15 22:00:01+00:00\n",
      "Tweet collected at 2020-02-15 22:01:35+00:00\n",
      "Tweet collected at 2020-02-15 22:02:02+00:00\n",
      "Tweet collected at 2020-02-15 22:03:03+00:00\n",
      "Tweet collected at 2020-02-15 22:03:35+00:00\n",
      "Tweet collected at 2020-02-15 22:03:45+00:00\n",
      "Tweet collected at 2020-02-15 22:03:58+00:00\n",
      "Tweet collected at 2020-02-15 22:04:37+00:00\n",
      "Tweet collected at 2020-02-15 22:05:29+00:00\n",
      "Tweet collected at 2020-02-15 22:06:04+00:00\n",
      "Tweet collected at 2020-02-15 22:06:12+00:00\n",
      "Tweet collected at 2020-02-15 22:07:28+00:00\n",
      "Tweet collected at 2020-02-15 22:07:33+00:00\n",
      "Tweet collected at 2020-02-15 22:08:57+00:00\n",
      "Tweet collected at 2020-02-15 22:09:36+00:00\n",
      "Tweet collected at 2020-02-15 22:11:45+00:00\n",
      "Tweet collected at 2020-02-15 22:12:23+00:00\n",
      "Tweet collected at 2020-02-15 22:13:25+00:00\n",
      "Tweet collected at 2020-02-15 22:13:49+00:00\n",
      "Tweet collected at 2020-02-15 22:14:07+00:00\n"
     ]
    }
   ],
   "source": [
    "from __future__ import print_function\n",
    "import tweepy\n",
    "import json\n",
    "import mysql.connector \n",
    "from dateutil import parser\n",
    "\n",
    "WORDS = ['Narendra Modi','narendra modi']\n",
    "consumerKey = 'hzmeTSJzdpeRQPP2kK7SmCJfl'\n",
    "consumerSecret = 'h1plzdis6gA4wpOWFR4bv8s54vRiZtF91rS19TdNUTpdNQnNkc'\n",
    "accessToken = '1199741880457560064-PhfBM8q1XSpaCXHd0I0Kt2SWUeSJXw'\n",
    "accessTokenSecret = 'ru1xndwQ5YzfcoYOrQXtQCGLCm3EbWu3dQrrRsLfwpkJ3'\n",
    "auth = tweepy.OAuthHandler(consumerKey, consumerSecret)\n",
    "auth.set_access_token(accessToken, accessTokenSecret)\n",
    "api = tweepy.API(auth)\n",
    "\n",
    "\n",
    "db = mysql.connector.connect(host = 'localhost', user = 'root', password = 'qwerty@25121994')\n",
    "myname = db.cursor()\n",
    "myname.execute('CREATE DATABASE ISHU')\n",
    "db = mysql.connector.connect(host = 'localhost',user = 'root', password = 'qwerty@25121994', database = 'ISHU')\n",
    "myname = db.cursor()\n",
    "myname.execute(\"CREATE TABLE twitter(id int(11) NOT NULL AUTO_INCREMENT,tweet_id varchar(250) DEFAULT NULL,screen_name varchar(128) DEFAULT NULL,created_at timestamp NULL DEFAULT NULL,text text,PRIMARY KEY (id))\")\n",
    "\n",
    "\n",
    "\n",
    "datajson = json.loads(data)"
   ]
  },
  {
   "cell_type": "code",
   "execution_count": null,
   "metadata": {
    "id": "h4kIgZcElgYG",
    "outputId": "f2a942d9-7716-4b1a-cdda-3fb2b427f328"
   },
   "outputs": [
    {
     "name": "stdout",
     "output_type": "stream",
     "text": [
      "(1, '1228786076631715840', 'isrgrajan', datetime.datetime(2020, 2, 15, 21, 0, 5), 'Important life lessons one can learn from Narendra Modi\\n\\nSee: https://t.co/tj4HI8sHco\\n\\n@isrgrajan… https://t.co/ykRI1irULS')\n",
      "(2, '1228786124098691072', 'Soni1Vicky', datetime.datetime(2020, 2, 15, 21, 0, 16), \"@FahadTISS @UmarKhalidJNU @naukarshah You're living in a fool's paradise if you think Narendra Modi will rollback t… https://t.co/p80SRbXCmF\")\n",
      "(3, '1228786757623144448', 'dkaushik9', datetime.datetime(2020, 2, 15, 21, 2, 47), 'India wants Narendra Modi and not Mahatma Gandhi.')\n",
      "(4, '1228786775679614976', 'IAmShereAalam', datetime.datetime(2020, 2, 15, 21, 2, 51), 'RT @sanjivbhatt: Every Indian must watch this. My heart swells with pride on the eve of this Republic Day! 🤗\\nhttps://t.co/4Vl7Isnld0')\n",
      "(5, '1228786857674063872', 'mohit55thaKur', datetime.datetime(2020, 2, 15, 21, 3, 11), 'RT @ImtiazMadmood: \"Narendra Modi is a fascist. Fascists don\\'t have horns on their heads.\"\\n\\n~ Javed Akhtar\\n\\nHe admits Modi has a head.\\nWher…')\n",
      "(6, '1228787053195939840', 'fabiojosecarmo', datetime.datetime(2020, 2, 15, 21, 3, 57), 'RT @RenovaMidia: #SemanaRENOVA\\n\\nO presidente do #Brasil, Jair Bolsonaro, fica atrás apenas de Narendra Modi, primeiro-ministro da #Índia, e…')\n",
      "(7, '1228787128823316481', 'Jitendra09792', datetime.datetime(2020, 2, 15, 21, 4, 15), 'RT @ImtiazMadmood: \"Narendra Modi is a fascist. Fascists don\\'t have horns on their heads.\"\\n\\n~ Javed Akhtar\\n\\nHe admits Modi has a head.\\nWher…')\n",
      "(8, '1228787328086200320', 'EHSANOZAMA63', datetime.datetime(2020, 2, 15, 21, 5, 3), 'RT @ndtvindia: केंद्रीय मंत्री गिरिराज सिंह ने पीएम नरेंद्र मोदी को भगवान का अवतार बताया! \\nhttps://t.co/ml0lhZbJG6 #girirajsingh')\n",
      "(9, '1228787536140677125', 'NaytDX', datetime.datetime(2020, 2, 15, 21, 5, 53), 'Narendra Modi #YouAreNotAKing')\n",
      "(10, '1228788004530966528', 'Ramazel26', datetime.datetime(2020, 2, 15, 21, 7, 44), \"RT @mehdirhasan: For this Friday's @AJUpFront, I asked @Javedakhtarjadu and @MaheshNBhatt, two of the biggest names in Bollywood, whether N…\")\n",
      "(11, '1228788063016341504', 'Ameen36086273', datetime.datetime(2020, 2, 15, 21, 7, 58), '@PMOIndia @realDonaldTrump @WhiteHouse @siddaramaiah @IYCKarnataka Reality of gujrath modi is hiding slums house by… https://t.co/T10PHxwnH4')\n",
      "(12, '1228788118008057856', 'misskhan', datetime.datetime(2020, 2, 15, 21, 8, 11), 'RT @BrutIndia: Narendra Modi accuses his critics of lying through their teeth. But he often gets his own facts wrong. https://t.co/qXsGGjvi…')\n",
      "(13, '1228788261507735552', 'undistinguishd', datetime.datetime(2020, 2, 15, 21, 8, 45), 'RT @ImtiazMadmood: \"Narendra Modi is a fascist. Fascists don\\'t have horns on their heads.\"\\n\\n~ Javed Akhtar\\n\\nHe admits Modi has a head.\\nWher…')\n",
      "(14, '1228788462796464128', 'Jyoti4India', datetime.datetime(2020, 2, 15, 21, 9, 33), \"RT @PMOIndia: Prime Minister Shri Narendra Modi shall also inaugurate the two day 'Kashi Ek Roop Anek' exhibition at Pandit Deendayal Upadh…\")\n",
      "(15, '1228788505217839104', 'ProyectoresE', datetime.datetime(2020, 2, 15, 21, 9, 44), 'Invertir en India a Largo Plazo: Las elecciones indias del 2019 garantizan 10 años a Narendra Modi como primer mini… https://t.co/xvH4jXYyrW')\n",
      "(16, '1228789135651082244', 'subtractzero', datetime.datetime(2020, 2, 15, 21, 12, 14), 'RT @ImtiazMadmood: \"Narendra Modi is a fascist. Fascists don\\'t have horns on their heads.\"\\n\\n~ Javed Akhtar\\n\\nHe admits Modi has a head.\\nWher…')\n",
      "(17, '1228789184695013377', 'jainanil1968', datetime.datetime(2020, 2, 15, 21, 12, 26), 'RT @maqbool_sm: Maha morcha against #CAA_NRC_NPR, PM Modi, Amit Shah at Mumbai\\'s Azad Maidan.\\n\\nWomen protesters raised slogans like\\xa0\"Hum be…')\n",
      "(18, '1228789241288646657', 'Sameer_021', datetime.datetime(2020, 2, 15, 21, 12, 39), 'RT @FriedrichPieter: On 19 February, I’ll be delivering a lecture on the Rashtriya Swayamsevak Sangh, the 100-year-old, Nazi-inspired param…')\n",
      "(19, '1228789321148157952', 'khatun_jesmina', datetime.datetime(2020, 2, 15, 21, 12, 58), '@atish_firoj @anuragkashyap72 Nobody is going to forget anything.. Tie the knot.. Narendra damodardas modi our  so… https://t.co/dAa6rnmnvD')\n",
      "(20, '1228789693296214017', 'amar_bangla87', datetime.datetime(2020, 2, 15, 21, 14, 27), 'RT @RoflSinha: नड्डा ने कान खीचे तो पट्ठा लाइन पर आ गया 😂👇')\n",
      "(21, '1228789712443207680', 'vvasanth77', datetime.datetime(2020, 2, 15, 21, 14, 31), 'RT @ImtiazMadmood: \"Narendra Modi is a fascist. Fascists don\\'t have horns on their heads.\"\\n\\n~ Javed Akhtar\\n\\nHe admits Modi has a head.\\nWher…')\n",
      "(22, '1228789936851021825', 'Imtiyaz55418194', datetime.datetime(2020, 2, 15, 21, 15, 25), 'RT @FriedrichPieter: On 19 February, I’ll be delivering a lecture on the Rashtriya Swayamsevak Sangh, the 100-year-old, Nazi-inspired param…')\n",
      "(23, '1228789983730896898', 'trishten21', datetime.datetime(2020, 2, 15, 21, 15, 36), 'RT @SwamiGeetika: Difference Between Ex PM Manmohan Singh after 26/11 &amp; PM Narendra Modi after #PulwamaAttack.\\n\\nDifference between Terror a…')\n",
      "(24, '1228790609302843392', 'gbhupesh', datetime.datetime(2020, 2, 15, 21, 18, 5), 'RT @avadhut1972: Mahesh tried to smear Hindus with a false charge of plotting 26/11 where Islamic terrorists from Pakistan attacked and kil…')\n",
      "(25, '1228790651602571267', 'khan_hindi2020', datetime.datetime(2020, 2, 15, 21, 18, 15), 'सही कहा मंत्री ने हक अदा किया')\n",
      "(26, '1228790757063921664', 'mmsawant', datetime.datetime(2020, 2, 15, 21, 18, 40), 'RT @ImtiazMadmood: \"Narendra Modi is a fascist. Fascists don\\'t have horns on their heads.\"\\n\\n~ Javed Akhtar\\n\\nHe admits Modi has a head.\\nWher…')\n",
      "(27, '1228790783697813504', 'neymarbipin', datetime.datetime(2020, 2, 15, 21, 18, 47), \"RT @Praecursator007: Is Narendra Modi ready to cut ties with Europe? Europeans are speaking out against. Let's see how 'strong man' Modi re…\")\n",
      "(28, '1228791036886933505', 'Satyabratmall12', datetime.datetime(2020, 2, 15, 21, 19, 47), \"Mother's love is the pure love. \\nBe you a small lad or be at 70 +year, those who respect their mother they win ever… https://t.co/P7UuF5f3Sw\")\n",
      "(29, '1228791074388185088', 'RiyazSharief4', datetime.datetime(2020, 2, 15, 21, 19, 56), 'What action Narendra Modi &amp;  BJP government will take against police')\n",
      "(30, '1228791112749350912', 'daigoroubot', datetime.datetime(2020, 2, 15, 21, 20, 5), '@Narendr50545508 Narendra Modi、フォロー返したのだ！')\n",
      "(31, '1228791140121530370', 'draconisignis', datetime.datetime(2020, 2, 15, 21, 20, 12), '😂😂 ah grande Marcelo! 😂')\n",
      "(32, '1228791262062317568', 'mkumar0071', datetime.datetime(2020, 2, 15, 21, 20, 41), 'RT @ImtiazMadmood: \"Narendra Modi is a fascist. Fascists don\\'t have horns on their heads.\"\\n\\n~ Javed Akhtar\\n\\nHe admits Modi has a head.\\nWher…')\n",
      "(33, '1228791594205286402', 'GladstoneMarian', datetime.datetime(2020, 2, 15, 21, 22), 'RT @AndreaKhne1: The Palestine-Kashmir parallels are now complete with the Netanyahu-Modi alliance.Whether its Narendra Modi or Benjamin Ne…')\n",
      "(34, '1228791702267129856', 'pyari_bacchi', datetime.datetime(2020, 2, 15, 21, 22, 26), \"RT @Satyabratmall12: Mother's love is the pure love. \\nBe you a small lad or be at 70 +year, those who respect their mother they win everyth…\")\n",
      "(35, '1228791751676067840', 'pyari_bacchi', datetime.datetime(2020, 2, 15, 21, 22, 38), '👉👌🙏')\n",
      "(36, '1228792064457883648', 'lucknow_dr', datetime.datetime(2020, 2, 15, 21, 23, 52), 'RT @ndtvindia: केंद्रीय मंत्री गिरिराज सिंह ने पीएम नरेंद्र मोदी को भगवान का अवतार बताया! \\nhttps://t.co/ml0lhZbJG6 #girirajsingh')\n",
      "(37, '1228792169269485570', 'Prahladkp', datetime.datetime(2020, 2, 15, 21, 24, 17), 'RT @vinayak_jain: These j*hadis aren’t understanding a simple thing - The more you create violence and threaten to break India the more it’…')\n",
      "(38, '1228792201305477120', 'RiyazSharief4', datetime.datetime(2020, 2, 15, 21, 24, 25), 'Shame on you Narendra Modi forcibly trying to convert an innocent Dr Kafeel Khan as criminal   Chokidar sach mey Ch… https://t.co/OgPMfJBIfC')\n",
      "(39, '1228792245073203200', 'rshaikh123', datetime.datetime(2020, 2, 15, 21, 24, 35), 'RT @reshma_alam9: It is not important what Rahul Gandhi thinks, its important what a billion Indians think.\\n- Rahul Gandhi \\n\\nIt is not impo…')\n",
      "(40, '1228792415005241344', 'MayankJ16436393', datetime.datetime(2020, 2, 15, 21, 25, 16), 'RT @vikaswebexpert: Narendra Damodar Das Modi \\n\\n https://t.co/DbVlBVeiyE')\n",
      "(41, '1228792688486625280', 'SandeepMahule', datetime.datetime(2020, 2, 15, 21, 26, 21), \"RT @Satyabratmall12: Mother's love is the pure love. \\nBe you a small lad or be at 70 +year, those who respect their mother they win everyth…\")\n",
      "(42, '1228792826399461376', 'BarlettaRosana', datetime.datetime(2020, 2, 15, 21, 26, 54), 'RT @RenovaMidia: #SemanaRENOVA\\n\\nO presidente do #Brasil, Jair Bolsonaro, fica atrás apenas de Narendra Modi, primeiro-ministro da #Índia, e…')\n",
      "(43, '1228793063960543232', 'sakshigpt75', datetime.datetime(2020, 2, 15, 21, 27, 50), \"RT @Satyabratmall12: Mother's love is the pure love. \\nBe you a small lad or be at 70 +year, those who respect their mother they win everyth…\")\n",
      "(44, '1228793471349219329', 'mein4788', datetime.datetime(2020, 2, 15, 21, 29, 28), '@girirajsinghbjp पाकिस्तानी प्रेमी बाबू   इससे हमको नौकरी , अच्छी सुविधा या १५ लाख मिल जायेंगे क्या')\n",
      "(45, '1228793491217666055', 'Lavitp', datetime.datetime(2020, 2, 15, 21, 29, 32), \"@cule53 It's normal under the leadership of prime minister Narendra Modi.\")\n",
      "(46, '1228793728556359680', 'pavan_sethi', datetime.datetime(2020, 2, 15, 21, 30, 29), 'RT @NishantVarma19: बिहार हार रही भाजपा\\n\\nदेख लो')\n",
      "(47, '1228793736231940096', 'pavan_sethi', datetime.datetime(2020, 2, 15, 21, 30, 31), 'RT @ClinicalSkills1: Ye bht sasta wala phokta hai.')\n",
      "(48, '1228794198184169473', 'BahuAjanu', datetime.datetime(2020, 2, 15, 21, 32, 21), 'RT @vikaswebexpert: Narendra Damodar Das Modi \\n\\n https://t.co/DbVlBVeiyE')\n",
      "(49, '1228794305164144640', 'saadisnthere', datetime.datetime(2020, 2, 15, 21, 32, 46), 'RT @Fekoslovakian: इनका क्या है, कल को ये बोलेंगे अमित शाह वराह अवतार है जिसकी थूथन पर पृथ्वी टिकी है😂😂😂')\n",
      "(50, '1228794343688794112', 'ADevotedYogi', datetime.datetime(2020, 2, 15, 21, 32, 56), 'RT @davidfrawleyved: Why is Narendra Modi denigrated as a Hindu nationalist Prime Minister in the western media but Imran Khan is not calle…')\n",
      "(51, '1228794646463221760', 'michaelcdeibert', datetime.datetime(2020, 2, 15, 21, 34, 8), 'This is a person (Gabbard) who flew to Damascus to hobnob with génocidaires in the midst of war crimes &amp; ethnic cle… https://t.co/9JUmUbQniq')\n",
      "(52, '1228794705787285504', 'Pragya10334913', datetime.datetime(2020, 2, 15, 21, 34, 22), \"RT @Satyabratmall12: Mother's love is the pure love. \\nBe you a small lad or be at 70 +year, those who respect their mother they win everyth…\")\n",
      "(53, '1228795338674319362', 'ragumami1', datetime.datetime(2020, 2, 15, 21, 36, 53), 'RT @vinayak_jain: These j*hadis aren’t understanding a simple thing - The more you create violence and threaten to break India the more it’…')\n",
      "(54, '1228795481544908802', 'SitanshuDesai', datetime.datetime(2020, 2, 15, 21, 37, 27), 'RT @ndtvindia: केंद्रीय मंत्री गिरिराज सिंह ने पीएम नरेंद्र मोदी को भगवान का अवतार बताया! \\nhttps://t.co/ml0lhZbJG6 #girirajsingh')\n",
      "(55, '1228795544325304322', 'rajgrad', datetime.datetime(2020, 2, 15, 21, 37, 42), 'RT @vinayak_jain: These j*hadis aren’t understanding a simple thing - The more you create violence and threaten to break India the more it’…')\n",
      "(56, '1228795918109040641', 'AwezShafique', datetime.datetime(2020, 2, 15, 21, 39, 11), 'RT @ndtvindia: केंद्रीय मंत्री गिरिराज सिंह ने पीएम नरेंद्र मोदी को भगवान का अवतार बताया! \\nhttps://t.co/ml0lhZbJG6 #girirajsingh')\n",
      "(57, '1228796444703969280', 'willyhillen24', datetime.datetime(2020, 2, 15, 21, 41, 17), \"Donald Trump didn't know India-China share border, PM Narendra Modi was shocked: New book https://t.co/8pJX8xWW3I via @indiatoday\")\n",
      "(58, '1228798117782474752', 'flakeofice', datetime.datetime(2020, 2, 15, 21, 47, 55), 'Narendra modi fan has turned into sid shukla fan now')\n",
      "(59, '1228798162518921218', 'Siddyboy18', datetime.datetime(2020, 2, 15, 21, 48, 6), 'RT @flakeofice: Narendra modi fan has turned into sid shukla fan now')\n",
      "(60, '1228798276784312320', 'Siddyboy20', datetime.datetime(2020, 2, 15, 21, 48, 33), 'RT @flakeofice: Narendra modi fan has turned into sid shukla fan now')\n",
      "(61, '1228798389657071616', 'bhim_sidheart', datetime.datetime(2020, 2, 15, 21, 49), 'RT @flakeofice: Narendra modi fan has turned into sid shukla fan now')\n",
      "(62, '1228798462990249984', 'guddu_gawar', datetime.datetime(2020, 2, 15, 21, 49, 18), 'RT @vikaswebexpert: Narendra Damodar Das Modi \\n\\n https://t.co/DbVlBVeiyE')\n",
      "(63, '1228798741584302081', 'I_M_Groott', datetime.datetime(2020, 2, 15, 21, 50, 24), 'RT @flakeofice: Narendra modi fan has turned into sid shukla fan now')\n",
      "(64, '1228798801500086272', 'WhatDTrath', datetime.datetime(2020, 2, 15, 21, 50, 38), \"#Kashmir is being colonised slowly with occupation firming it's hold. The International organisations who stand as… https://t.co/3PzzAGpjJR\")\n",
      "(65, '1228798926733664261', 'mangal_1988', datetime.datetime(2020, 2, 15, 21, 51, 8), 'एक से बढ़कर एक नमुने भरे हैं देश में।')\n",
      "(66, '1228799003401256962', 'kjaglan', datetime.datetime(2020, 2, 15, 21, 51, 27), 'RT @sarkar_swati: Here @tavleen_singh describes CAA as first Nuremberg law.Given that she didn’t know of existence of detention centers in…')\n",
      "(67, '1228799081511706626', '_nachiketaa', datetime.datetime(2020, 2, 15, 21, 51, 45), 'अवतार छोड़िए दूर-दूर तक बहुरूपिया पौंड्रक भी नहीं है। उल्टा एक नंबर का जाहिल जपाट आदमी है भारत का सुप्रीम लीडर।')\n",
      "(68, '1228799339247456256', 'Msa72722', datetime.datetime(2020, 2, 15, 21, 52, 47), 'RT @IndurChhugani: Give n Take opportunity.\\n\\nPosing a question to the Union government, he asked, \"What is the quid pro quo for Mr PM (Nare…')\n",
      "(69, '1228799434479157248', 'Arjun_sidHeart', datetime.datetime(2020, 2, 15, 21, 53, 9), 'RT @flakeofice: Narendra modi fan has turned into sid shukla fan now')\n",
      "(70, '1228799597079863296', 'pankajpand', datetime.datetime(2020, 2, 15, 21, 53, 48), 'No. of followers on FB:\\nCristiano Ronaldo - 122 m\\nBarack Obama - 55 m\\nNarendra Modi - 44 m\\nAmitabh Bachchan - 29 m… https://t.co/RBmPc0GX1T')\n",
      "(71, '1228799859475599361', 'Jay4Hind', datetime.datetime(2020, 2, 15, 21, 54, 51), '@DVATW Meanwhile, the real India forges ahead in the world\\nhttps://t.co/kTtk74KfPU')\n",
      "(72, '1228799982410633216', 'JaanHaiSid', datetime.datetime(2020, 2, 15, 21, 55, 20), 'RT @flakeofice: Narendra modi fan has turned into sid shukla fan now')\n",
      "(73, '1228799996176277504', 'EoinHiggins_', datetime.datetime(2020, 2, 15, 21, 55, 23), \"September 12, 2019:\\n\\nGates Foundation Award for Indian PM and 'Despot-in-the-Making' Narendra Modi Draws Anger From… https://t.co/v1bdULA4eM\")\n",
      "(74, '1228800034759593984', 'neetu2306', datetime.datetime(2020, 2, 15, 21, 55, 32), 'RT @flakeofice: Narendra modi fan has turned into sid shukla fan now')\n",
      "(75, '1228800434866982912', 'chaanakya41', datetime.datetime(2020, 2, 15, 21, 57, 8), 'RT @JeSuisCharlie9: Nov 07, 2014, Economic Times\\nShiv Sena warns Taliban against crossing path with Prime Minister Narendra Modi \\n\\n9 Feb 20…')\n",
      "(76, '1228800863424188417', 'Angelalouise282', datetime.datetime(2020, 2, 15, 21, 58, 50), 'RT @flakeofice: Narendra modi fan has turned into sid shukla fan now https://t.co/coviQ7wjEl')\n",
      "(77, '1228801015937261573', 'mahjoor07', datetime.datetime(2020, 2, 15, 21, 59, 26), 'RT @toronto4kashmir: \"The biggest &amp; most frightening setback came in India where a democratically elected Narendra Modi is creating a Hindu…')\n",
      "(78, '1228801064599609344', 'drjdphd', datetime.datetime(2020, 2, 15, 21, 59, 38), \"RT @EoinHiggins_: September 12, 2019:\\n\\nGates Foundation Award for Indian PM and 'Despot-in-the-Making' Narendra Modi Draws Anger From Right…\")\n",
      "(79, '1228801130513281024', 'ajmiles4', datetime.datetime(2020, 2, 15, 21, 59, 54), \"RT @EoinHiggins_: September 12, 2019:\\n\\nGates Foundation Award for Indian PM and 'Despot-in-the-Making' Narendra Modi Draws Anger From Right…\")\n",
      "(80, '1228801158405337091', 'NCRonline', datetime.datetime(2020, 2, 15, 22, 0), \"India's Citizenship Amendment Act, an initiative of Prime Minister Narendra Modi's Hindu nationalist party, fast-tr… https://t.co/voWLnN9BFK\")\n",
      "(81, '1228801161697742848', 'PrachandBakchod', datetime.datetime(2020, 2, 15, 22, 0, 1), \"RT @Kap_Taan: That's true ✌️ https://t.co/9hrrv0psJh\")\n",
      "(82, '1228801553886105601', 'chaubeabhi', datetime.datetime(2020, 2, 15, 22, 1, 35), '@AjazkhanActor @sidharth_shukla @imrealasim @BiggBoss @BeingSalmanKhan #FixedWinnerSidharth all narendra modi fault… https://t.co/aP5ad9UT2T')\n",
      "(83, '1228801667883315200', 'VRomeir', datetime.datetime(2020, 2, 15, 22, 2, 2), 'RT @RenovaMidia: #SemanaRENOVA\\n\\nO presidente do #Brasil, Jair Bolsonaro, fica atrás apenas de Narendra Modi, primeiro-ministro da #Índia, e…')\n",
      "(84, '1228801922993311744', 'abcunlimited1', datetime.datetime(2020, 2, 15, 22, 3, 3), 'RT @ImtiazMadmood: \"Narendra Modi is a fascist. Fascists don\\'t have horns on their heads.\"\\n\\n~ Javed Akhtar\\n\\nHe admits Modi has a head.\\nWher…')\n",
      "(85, '1228802059060707328', 'Arufau_', datetime.datetime(2020, 2, 15, 22, 3, 35), 'RT @sidhant: Wrong Info by US President Donald trump:\\n\\nOn Facebook:\\n--Indian PM Narendra Modi: 44 million \\n--US Prez Donald Trump: 25 milli…')\n",
      "(86, '1228802101947465729', 'ramgopaljain14', datetime.datetime(2020, 2, 15, 22, 3, 45), '@narendramodi Honorable Shri Narendra Modi ji: you are the best Prime Minister of India after Independence of India… https://t.co/cHDcLkzGAD')\n",
      "(87, '1228802156888776705', 'gaurangmorjaria', datetime.datetime(2020, 2, 15, 22, 3, 58), 'If you think Jeremy Corbyn, an outsider was vilified by British establishment media but somehow fail to see that Na… https://t.co/Yyj8iA0Qlx')\n",
      "(88, '1228802319980036097', 'pankajpand', datetime.datetime(2020, 2, 15, 22, 4, 37), 'No. of followers on FB:\\nCristiano Ronaldo - 122 m\\nShakira - 100 m\\nVin Diesel - 96 m\\nLeo Messi - 90 m\\nWill Smith - 7… https://t.co/CpsGhUrixd')\n",
      "(89, '1228802537744060418', 'moin2_k', datetime.datetime(2020, 2, 15, 22, 5, 29), 'RT @BrutIndia: Narendra Modi accuses his critics of lying through their teeth. But he often gets his own facts wrong. https://t.co/qXsGGjvi…')\n",
      "(90, '1228802685484355585', 'A_Holmesian', datetime.datetime(2020, 2, 15, 22, 6, 4), \"RT @ranjona: When does he do any actual work? Or are we just plain lucky that he doesn't?\")\n",
      "(91, '1228802716794642432', 'Renuka40243316', datetime.datetime(2020, 2, 15, 22, 6, 12), 'RT @chaubeabhi: @AjazkhanActor @sidharth_shukla @imrealasim @BiggBoss @BeingSalmanKhan #FixedWinnerSidharth all narendra modi fault\\nWe the…')\n",
      "(92, '1228803037415825408', 'racatiwood', datetime.datetime(2020, 2, 15, 22, 7, 28), '@SrutiYoga @mceehops @SaadiaBukhari @mehdirhasan @SenSanders how can you reconcile her exceedingly deferential rela… https://t.co/SqB49HWDmx')\n",
      "(93, '1228803058072784897', 'pragmaticladwww', datetime.datetime(2020, 2, 15, 22, 7, 33), \"RT @NindaTurtles: I'm thankful to Narendra Modi government to for bringing in CAA\\n\\nNow we know the true colors of many anti nationals betwe…\")\n",
      "(94, '1228803411346251776', 'Haroon57066528', datetime.datetime(2020, 2, 15, 22, 8, 57), 'RT @DefencedotPak: “Of course he is. I mean fascists don’t have horns on their heads. Fascist in thinking &amp; this thinking that ‘we are bett…')\n",
      "(95, '1228803572441255940', 'veni_vidi_vici3', datetime.datetime(2020, 2, 15, 22, 9, 36), \"RT @EoinHiggins_: September 12, 2019:\\n\\nGates Foundation Award for Indian PM and 'Despot-in-the-Making' Narendra Modi Draws Anger From Right…\")\n",
      "(96, '1228804111870701571', 'HaleemTorque', datetime.datetime(2020, 2, 15, 22, 11, 45), 'RT @IAMCouncil: \"Of course, he is. I mean, fascists don\\'t have horns on their heads. Fascist is a thinking. And thinking that \\'we are bette…')\n",
      "(97, '1228804273263251456', 'ZackTaylorRP', datetime.datetime(2020, 2, 15, 22, 12, 23), 'RT @RenovaMidia: #SemanaRENOVA\\n\\nO presidente do #Brasil, Jair Bolsonaro, fica atrás apenas de Narendra Modi, primeiro-ministro da #Índia, e…')\n",
      "(98, '1228804534182477827', 'timeofaquarius', datetime.datetime(2020, 2, 15, 22, 13, 25), \"RSS doesn't pull strings, they are conjoined twins with the BJP.\")\n",
      "(99, '1228804632585080834', 'abcunlimited1', datetime.datetime(2020, 2, 15, 22, 13, 49), 'RT @sunandavashisht: Ouch, if this rag finds out that Delhi has 7 parliamentary seats and BJP won them all, what will they do?')\n",
      "(100, '1228804709777072129', 'nishant1224soni', datetime.datetime(2020, 2, 15, 22, 14, 7), 'RT @flakeofice: Narendra modi fan has turned into sid shukla fan now')\n"
     ]
    }
   ],
   "source": [
    "import mysql.connector\n",
    "db = mysql.connector.connect(host = 'localhost', user = 'root', password = 'qwerty@25121994')\n",
    "myname = db.cursor()\n",
    "\n",
    "db = mysql.connector.connect(host = 'localhost',user = 'root', password = 'qwerty@25121994', database = 'ISHU')\n",
    "myname = db.cursor()\n",
    "\n",
    "myname.execute('Select * from twitter')\n",
    "myresult = myname.fetchall()\n",
    "for row in myresult:\n",
    "    print(row)"
   ]
  },
  {
   "cell_type": "code",
   "execution_count": null,
   "metadata": {
    "id": "9Bmg2YgXlgYo"
   },
   "outputs": [],
   "source": [
    "import pandas as pd\n",
    "import numpy as np"
   ]
  },
  {
   "cell_type": "code",
   "execution_count": null,
   "metadata": {
    "id": "4P9JZqqIlgY_",
    "outputId": "516da873-ffa3-4dc7-d213-ef7d2e909fc4"
   },
   "outputs": [
    {
     "data": {
      "text/html": [
       "<div>\n",
       "<style scoped>\n",
       "    .dataframe tbody tr th:only-of-type {\n",
       "        vertical-align: middle;\n",
       "    }\n",
       "\n",
       "    .dataframe tbody tr th {\n",
       "        vertical-align: top;\n",
       "    }\n",
       "\n",
       "    .dataframe thead th {\n",
       "        text-align: right;\n",
       "    }\n",
       "</style>\n",
       "<table border=\"1\" class=\"dataframe\">\n",
       "  <thead>\n",
       "    <tr style=\"text-align: right;\">\n",
       "      <th></th>\n",
       "      <th>0</th>\n",
       "      <th>1</th>\n",
       "      <th>2</th>\n",
       "      <th>3</th>\n",
       "      <th>4</th>\n",
       "    </tr>\n",
       "  </thead>\n",
       "  <tbody>\n",
       "    <tr>\n",
       "      <td>0</td>\n",
       "      <td>1</td>\n",
       "      <td>1228786076631715840</td>\n",
       "      <td>isrgrajan</td>\n",
       "      <td>2020-02-15 21:00:05</td>\n",
       "      <td>Important life lessons one can learn from Nare...</td>\n",
       "    </tr>\n",
       "    <tr>\n",
       "      <td>1</td>\n",
       "      <td>2</td>\n",
       "      <td>1228786124098691072</td>\n",
       "      <td>Soni1Vicky</td>\n",
       "      <td>2020-02-15 21:00:16</td>\n",
       "      <td>@FahadTISS @UmarKhalidJNU @naukarshah You're l...</td>\n",
       "    </tr>\n",
       "    <tr>\n",
       "      <td>2</td>\n",
       "      <td>3</td>\n",
       "      <td>1228786757623144448</td>\n",
       "      <td>dkaushik9</td>\n",
       "      <td>2020-02-15 21:02:47</td>\n",
       "      <td>India wants Narendra Modi and not Mahatma Gandhi.</td>\n",
       "    </tr>\n",
       "    <tr>\n",
       "      <td>3</td>\n",
       "      <td>4</td>\n",
       "      <td>1228786775679614976</td>\n",
       "      <td>IAmShereAalam</td>\n",
       "      <td>2020-02-15 21:02:51</td>\n",
       "      <td>RT @sanjivbhatt: Every Indian must watch this....</td>\n",
       "    </tr>\n",
       "    <tr>\n",
       "      <td>4</td>\n",
       "      <td>5</td>\n",
       "      <td>1228786857674063872</td>\n",
       "      <td>mohit55thaKur</td>\n",
       "      <td>2020-02-15 21:03:11</td>\n",
       "      <td>RT @ImtiazMadmood: \"Narendra Modi is a fascist...</td>\n",
       "    </tr>\n",
       "    <tr>\n",
       "      <td>...</td>\n",
       "      <td>...</td>\n",
       "      <td>...</td>\n",
       "      <td>...</td>\n",
       "      <td>...</td>\n",
       "      <td>...</td>\n",
       "    </tr>\n",
       "    <tr>\n",
       "      <td>95</td>\n",
       "      <td>96</td>\n",
       "      <td>1228804111870701571</td>\n",
       "      <td>HaleemTorque</td>\n",
       "      <td>2020-02-15 22:11:45</td>\n",
       "      <td>RT @IAMCouncil: \"Of course, he is. I mean, fas...</td>\n",
       "    </tr>\n",
       "    <tr>\n",
       "      <td>96</td>\n",
       "      <td>97</td>\n",
       "      <td>1228804273263251456</td>\n",
       "      <td>ZackTaylorRP</td>\n",
       "      <td>2020-02-15 22:12:23</td>\n",
       "      <td>RT @RenovaMidia: #SemanaRENOVA\\n\\nO presidente...</td>\n",
       "    </tr>\n",
       "    <tr>\n",
       "      <td>97</td>\n",
       "      <td>98</td>\n",
       "      <td>1228804534182477827</td>\n",
       "      <td>timeofaquarius</td>\n",
       "      <td>2020-02-15 22:13:25</td>\n",
       "      <td>RSS doesn't pull strings, they are conjoined t...</td>\n",
       "    </tr>\n",
       "    <tr>\n",
       "      <td>98</td>\n",
       "      <td>99</td>\n",
       "      <td>1228804632585080834</td>\n",
       "      <td>abcunlimited1</td>\n",
       "      <td>2020-02-15 22:13:49</td>\n",
       "      <td>RT @sunandavashisht: Ouch, if this rag finds o...</td>\n",
       "    </tr>\n",
       "    <tr>\n",
       "      <td>99</td>\n",
       "      <td>100</td>\n",
       "      <td>1228804709777072129</td>\n",
       "      <td>nishant1224soni</td>\n",
       "      <td>2020-02-15 22:14:07</td>\n",
       "      <td>RT @flakeofice: Narendra modi fan has turned i...</td>\n",
       "    </tr>\n",
       "  </tbody>\n",
       "</table>\n",
       "<p>100 rows × 5 columns</p>\n",
       "</div>"
      ],
      "text/plain": [
       "      0                    1                2                   3  \\\n",
       "0     1  1228786076631715840        isrgrajan 2020-02-15 21:00:05   \n",
       "1     2  1228786124098691072       Soni1Vicky 2020-02-15 21:00:16   \n",
       "2     3  1228786757623144448        dkaushik9 2020-02-15 21:02:47   \n",
       "3     4  1228786775679614976    IAmShereAalam 2020-02-15 21:02:51   \n",
       "4     5  1228786857674063872    mohit55thaKur 2020-02-15 21:03:11   \n",
       "..  ...                  ...              ...                 ...   \n",
       "95   96  1228804111870701571     HaleemTorque 2020-02-15 22:11:45   \n",
       "96   97  1228804273263251456     ZackTaylorRP 2020-02-15 22:12:23   \n",
       "97   98  1228804534182477827   timeofaquarius 2020-02-15 22:13:25   \n",
       "98   99  1228804632585080834    abcunlimited1 2020-02-15 22:13:49   \n",
       "99  100  1228804709777072129  nishant1224soni 2020-02-15 22:14:07   \n",
       "\n",
       "                                                    4  \n",
       "0   Important life lessons one can learn from Nare...  \n",
       "1   @FahadTISS @UmarKhalidJNU @naukarshah You're l...  \n",
       "2   India wants Narendra Modi and not Mahatma Gandhi.  \n",
       "3   RT @sanjivbhatt: Every Indian must watch this....  \n",
       "4   RT @ImtiazMadmood: \"Narendra Modi is a fascist...  \n",
       "..                                                ...  \n",
       "95  RT @IAMCouncil: \"Of course, he is. I mean, fas...  \n",
       "96  RT @RenovaMidia: #SemanaRENOVA\\n\\nO presidente...  \n",
       "97  RSS doesn't pull strings, they are conjoined t...  \n",
       "98  RT @sunandavashisht: Ouch, if this rag finds o...  \n",
       "99  RT @flakeofice: Narendra modi fan has turned i...  \n",
       "\n",
       "[100 rows x 5 columns]"
      ]
     },
     "execution_count": 35,
     "metadata": {
      "tags": []
     },
     "output_type": "execute_result"
    }
   ],
   "source": [
    "df = pd.DataFrame(myresult)\n",
    "df"
   ]
  },
  {
   "cell_type": "code",
   "execution_count": null,
   "metadata": {
    "id": "-CCEOdyelgZJ",
    "outputId": "fc6f333c-e574-48cd-ac92-f7a6cddf546d"
   },
   "outputs": [
    {
     "data": {
      "text/html": [
       "<div>\n",
       "<style scoped>\n",
       "    .dataframe tbody tr th:only-of-type {\n",
       "        vertical-align: middle;\n",
       "    }\n",
       "\n",
       "    .dataframe tbody tr th {\n",
       "        vertical-align: top;\n",
       "    }\n",
       "\n",
       "    .dataframe thead th {\n",
       "        text-align: right;\n",
       "    }\n",
       "</style>\n",
       "<table border=\"1\" class=\"dataframe\">\n",
       "  <thead>\n",
       "    <tr style=\"text-align: right;\">\n",
       "      <th></th>\n",
       "      <th>id</th>\n",
       "      <th>twitter id</th>\n",
       "      <th>Screen_name</th>\n",
       "      <th>Time</th>\n",
       "      <th>Comment</th>\n",
       "    </tr>\n",
       "  </thead>\n",
       "  <tbody>\n",
       "    <tr>\n",
       "      <td>0</td>\n",
       "      <td>1</td>\n",
       "      <td>1228786076631715840</td>\n",
       "      <td>isrgrajan</td>\n",
       "      <td>2020-02-15 21:00:05</td>\n",
       "      <td>Important life lessons one can learn from Nare...</td>\n",
       "    </tr>\n",
       "    <tr>\n",
       "      <td>1</td>\n",
       "      <td>2</td>\n",
       "      <td>1228786124098691072</td>\n",
       "      <td>Soni1Vicky</td>\n",
       "      <td>2020-02-15 21:00:16</td>\n",
       "      <td>@FahadTISS @UmarKhalidJNU @naukarshah You're l...</td>\n",
       "    </tr>\n",
       "    <tr>\n",
       "      <td>2</td>\n",
       "      <td>3</td>\n",
       "      <td>1228786757623144448</td>\n",
       "      <td>dkaushik9</td>\n",
       "      <td>2020-02-15 21:02:47</td>\n",
       "      <td>India wants Narendra Modi and not Mahatma Gandhi.</td>\n",
       "    </tr>\n",
       "    <tr>\n",
       "      <td>3</td>\n",
       "      <td>4</td>\n",
       "      <td>1228786775679614976</td>\n",
       "      <td>IAmShereAalam</td>\n",
       "      <td>2020-02-15 21:02:51</td>\n",
       "      <td>RT @sanjivbhatt: Every Indian must watch this....</td>\n",
       "    </tr>\n",
       "    <tr>\n",
       "      <td>4</td>\n",
       "      <td>5</td>\n",
       "      <td>1228786857674063872</td>\n",
       "      <td>mohit55thaKur</td>\n",
       "      <td>2020-02-15 21:03:11</td>\n",
       "      <td>RT @ImtiazMadmood: \"Narendra Modi is a fascist...</td>\n",
       "    </tr>\n",
       "    <tr>\n",
       "      <td>...</td>\n",
       "      <td>...</td>\n",
       "      <td>...</td>\n",
       "      <td>...</td>\n",
       "      <td>...</td>\n",
       "      <td>...</td>\n",
       "    </tr>\n",
       "    <tr>\n",
       "      <td>95</td>\n",
       "      <td>96</td>\n",
       "      <td>1228804111870701571</td>\n",
       "      <td>HaleemTorque</td>\n",
       "      <td>2020-02-15 22:11:45</td>\n",
       "      <td>RT @IAMCouncil: \"Of course, he is. I mean, fas...</td>\n",
       "    </tr>\n",
       "    <tr>\n",
       "      <td>96</td>\n",
       "      <td>97</td>\n",
       "      <td>1228804273263251456</td>\n",
       "      <td>ZackTaylorRP</td>\n",
       "      <td>2020-02-15 22:12:23</td>\n",
       "      <td>RT @RenovaMidia: #SemanaRENOVA\\n\\nO presidente...</td>\n",
       "    </tr>\n",
       "    <tr>\n",
       "      <td>97</td>\n",
       "      <td>98</td>\n",
       "      <td>1228804534182477827</td>\n",
       "      <td>timeofaquarius</td>\n",
       "      <td>2020-02-15 22:13:25</td>\n",
       "      <td>RSS doesn't pull strings, they are conjoined t...</td>\n",
       "    </tr>\n",
       "    <tr>\n",
       "      <td>98</td>\n",
       "      <td>99</td>\n",
       "      <td>1228804632585080834</td>\n",
       "      <td>abcunlimited1</td>\n",
       "      <td>2020-02-15 22:13:49</td>\n",
       "      <td>RT @sunandavashisht: Ouch, if this rag finds o...</td>\n",
       "    </tr>\n",
       "    <tr>\n",
       "      <td>99</td>\n",
       "      <td>100</td>\n",
       "      <td>1228804709777072129</td>\n",
       "      <td>nishant1224soni</td>\n",
       "      <td>2020-02-15 22:14:07</td>\n",
       "      <td>RT @flakeofice: Narendra modi fan has turned i...</td>\n",
       "    </tr>\n",
       "  </tbody>\n",
       "</table>\n",
       "<p>100 rows × 5 columns</p>\n",
       "</div>"
      ],
      "text/plain": [
       "     id           twitter id      Screen_name                Time  \\\n",
       "0     1  1228786076631715840        isrgrajan 2020-02-15 21:00:05   \n",
       "1     2  1228786124098691072       Soni1Vicky 2020-02-15 21:00:16   \n",
       "2     3  1228786757623144448        dkaushik9 2020-02-15 21:02:47   \n",
       "3     4  1228786775679614976    IAmShereAalam 2020-02-15 21:02:51   \n",
       "4     5  1228786857674063872    mohit55thaKur 2020-02-15 21:03:11   \n",
       "..  ...                  ...              ...                 ...   \n",
       "95   96  1228804111870701571     HaleemTorque 2020-02-15 22:11:45   \n",
       "96   97  1228804273263251456     ZackTaylorRP 2020-02-15 22:12:23   \n",
       "97   98  1228804534182477827   timeofaquarius 2020-02-15 22:13:25   \n",
       "98   99  1228804632585080834    abcunlimited1 2020-02-15 22:13:49   \n",
       "99  100  1228804709777072129  nishant1224soni 2020-02-15 22:14:07   \n",
       "\n",
       "                                              Comment  \n",
       "0   Important life lessons one can learn from Nare...  \n",
       "1   @FahadTISS @UmarKhalidJNU @naukarshah You're l...  \n",
       "2   India wants Narendra Modi and not Mahatma Gandhi.  \n",
       "3   RT @sanjivbhatt: Every Indian must watch this....  \n",
       "4   RT @ImtiazMadmood: \"Narendra Modi is a fascist...  \n",
       "..                                                ...  \n",
       "95  RT @IAMCouncil: \"Of course, he is. I mean, fas...  \n",
       "96  RT @RenovaMidia: #SemanaRENOVA\\n\\nO presidente...  \n",
       "97  RSS doesn't pull strings, they are conjoined t...  \n",
       "98  RT @sunandavashisht: Ouch, if this rag finds o...  \n",
       "99  RT @flakeofice: Narendra modi fan has turned i...  \n",
       "\n",
       "[100 rows x 5 columns]"
      ]
     },
     "execution_count": 36,
     "metadata": {
      "tags": []
     },
     "output_type": "execute_result"
    }
   ],
   "source": [
    "df = pd.DataFrame(myresult,columns = ['id','twitter id','Screen_name','Time','Comment'])\n",
    "df"
   ]
  },
  {
   "cell_type": "code",
   "execution_count": null,
   "metadata": {
    "id": "K34XZgLclgZU",
    "outputId": "71957219-36c3-401e-ac89-88d0dfac095e"
   },
   "outputs": [
    {
     "data": {
      "text/plain": [
       "0"
      ]
     },
     "execution_count": 37,
     "metadata": {
      "tags": []
     },
     "output_type": "execute_result"
    }
   ],
   "source": [
    "df['Comment'].isnull().sum()"
   ]
  },
  {
   "cell_type": "code",
   "execution_count": null,
   "metadata": {
    "id": "Bm492TuMlgZ-"
   },
   "outputs": [],
   "source": [
    "import nltk"
   ]
  },
  {
   "cell_type": "code",
   "execution_count": null,
   "metadata": {
    "id": "2Y4s3_-6lgaI",
    "outputId": "8c40aa02-a3c2-4f80-f6d8-308e31ac17ab"
   },
   "outputs": [
    {
     "name": "stderr",
     "output_type": "stream",
     "text": [
      "[nltk_data] Downloading package vader_lexicon to\n",
      "[nltk_data]     C:\\Users\\user\\AppData\\Roaming\\nltk_data...\n",
      "[nltk_data]   Package vader_lexicon is already up-to-date!\n"
     ]
    },
    {
     "data": {
      "text/plain": [
       "True"
      ]
     },
     "execution_count": 39,
     "metadata": {
      "tags": []
     },
     "output_type": "execute_result"
    }
   ],
   "source": [
    "nltk.download('vader_lexicon')"
   ]
  },
  {
   "cell_type": "code",
   "execution_count": null,
   "metadata": {
    "id": "rg8ySKNxlgaS"
   },
   "outputs": [],
   "source": [
    "from nltk.sentiment.vader import SentimentIntensityAnalyzer"
   ]
  },
  {
   "cell_type": "code",
   "execution_count": null,
   "metadata": {
    "id": "Pyp5a5i1lgaa"
   },
   "outputs": [],
   "source": [
    "sid = SentimentIntensityAnalyzer()"
   ]
  },
  {
   "cell_type": "code",
   "execution_count": null,
   "metadata": {
    "id": "sgUc-K9xlgai"
   },
   "outputs": [],
   "source": [
    "a = 'Narendra Modi is a great person'"
   ]
  },
  {
   "cell_type": "code",
   "execution_count": null,
   "metadata": {
    "id": "7ZPP6H28lgaz",
    "outputId": "8feed9a9-5a98-4f90-ff90-fc71e4674e5a"
   },
   "outputs": [
    {
     "data": {
      "text/plain": [
       "{'neg': 0.0, 'neu': 0.494, 'pos': 0.506, 'compound': 0.6249}"
      ]
     },
     "execution_count": 43,
     "metadata": {
      "tags": []
     },
     "output_type": "execute_result"
    }
   ],
   "source": [
    "sid.polarity_scores(a)"
   ]
  },
  {
   "cell_type": "code",
   "execution_count": null,
   "metadata": {
    "id": "GIz4_cjBlgbG"
   },
   "outputs": [],
   "source": [
    "b = 'Narendra Modi is a bad politician'"
   ]
  },
  {
   "cell_type": "code",
   "execution_count": null,
   "metadata": {
    "id": "v6Q2QfQLlgbO",
    "outputId": "ab3cca14-bafa-4883-82e1-ae6df03d105f"
   },
   "outputs": [
    {
     "data": {
      "text/plain": [
       "{'neg': 0.467, 'neu': 0.533, 'pos': 0.0, 'compound': -0.5423}"
      ]
     },
     "execution_count": 45,
     "metadata": {
      "tags": []
     },
     "output_type": "execute_result"
    }
   ],
   "source": [
    "sid.polarity_scores(b)"
   ]
  },
  {
   "cell_type": "code",
   "execution_count": null,
   "metadata": {
    "id": "3wRYdDRRlgbb"
   },
   "outputs": [],
   "source": [
    "blanks = []\n",
    "for i,id_,twitter_id,screen_name,time,Comment in df.itertuples():\n",
    "    if type(Comment) == str:\n",
    "        if Comment.isspace():\n",
    "            blanks.append(i)"
   ]
  },
  {
   "cell_type": "code",
   "execution_count": null,
   "metadata": {
    "id": "tZzs57tclgbj",
    "outputId": "3d9880e2-e28d-4370-8e06-1378032c648d"
   },
   "outputs": [
    {
     "data": {
      "text/plain": [
       "[]"
      ]
     },
     "execution_count": 47,
     "metadata": {
      "tags": []
     },
     "output_type": "execute_result"
    }
   ],
   "source": [
    "blanks"
   ]
  },
  {
   "cell_type": "code",
   "execution_count": null,
   "metadata": {
    "id": "dWRl1Ylzlgbr",
    "outputId": "6894b87d-3c82-43cf-a80e-cb6a67b7809f"
   },
   "outputs": [
    {
     "data": {
      "text/plain": [
       "'Important life lessons one can learn from Narendra Modi\\n\\nSee: https://t.co/tj4HI8sHco\\n\\n@isrgrajan… https://t.co/ykRI1irULS'"
      ]
     },
     "execution_count": 48,
     "metadata": {
      "tags": []
     },
     "output_type": "execute_result"
    }
   ],
   "source": [
    "df.iloc[0]['Comment']"
   ]
  },
  {
   "cell_type": "code",
   "execution_count": null,
   "metadata": {
    "id": "I3qoLsd5lgb0",
    "outputId": "7ac92988-4cd8-4aa0-b02b-46ba8a01fcad"
   },
   "outputs": [
    {
     "data": {
      "text/plain": [
       "{'neg': 0.0, 'neu': 0.87, 'pos': 0.13, 'compound': 0.2023}"
      ]
     },
     "execution_count": 49,
     "metadata": {
      "tags": []
     },
     "output_type": "execute_result"
    }
   ],
   "source": [
    "sid.polarity_scores(df.iloc[0]['Comment'])"
   ]
  },
  {
   "cell_type": "code",
   "execution_count": null,
   "metadata": {
    "id": "Wra2lGDDlgcH"
   },
   "outputs": [],
   "source": [
    "df['scores'] = df['Comment'].apply(lambda Comment: sid.polarity_scores(Comment))"
   ]
  },
  {
   "cell_type": "code",
   "execution_count": null,
   "metadata": {
    "id": "GLRDkLJllgcO",
    "outputId": "a054d578-8d7d-4799-9eb5-bebe0108dafc"
   },
   "outputs": [
    {
     "data": {
      "text/html": [
       "<div>\n",
       "<style scoped>\n",
       "    .dataframe tbody tr th:only-of-type {\n",
       "        vertical-align: middle;\n",
       "    }\n",
       "\n",
       "    .dataframe tbody tr th {\n",
       "        vertical-align: top;\n",
       "    }\n",
       "\n",
       "    .dataframe thead th {\n",
       "        text-align: right;\n",
       "    }\n",
       "</style>\n",
       "<table border=\"1\" class=\"dataframe\">\n",
       "  <thead>\n",
       "    <tr style=\"text-align: right;\">\n",
       "      <th></th>\n",
       "      <th>id</th>\n",
       "      <th>twitter id</th>\n",
       "      <th>Screen_name</th>\n",
       "      <th>Time</th>\n",
       "      <th>Comment</th>\n",
       "      <th>scores</th>\n",
       "    </tr>\n",
       "  </thead>\n",
       "  <tbody>\n",
       "    <tr>\n",
       "      <td>0</td>\n",
       "      <td>1</td>\n",
       "      <td>1228786076631715840</td>\n",
       "      <td>isrgrajan</td>\n",
       "      <td>2020-02-15 21:00:05</td>\n",
       "      <td>Important life lessons one can learn from Nare...</td>\n",
       "      <td>{'neg': 0.0, 'neu': 0.87, 'pos': 0.13, 'compou...</td>\n",
       "    </tr>\n",
       "    <tr>\n",
       "      <td>1</td>\n",
       "      <td>2</td>\n",
       "      <td>1228786124098691072</td>\n",
       "      <td>Soni1Vicky</td>\n",
       "      <td>2020-02-15 21:00:16</td>\n",
       "      <td>@FahadTISS @UmarKhalidJNU @naukarshah You're l...</td>\n",
       "      <td>{'neg': 0.0, 'neu': 0.792, 'pos': 0.208, 'comp...</td>\n",
       "    </tr>\n",
       "    <tr>\n",
       "      <td>2</td>\n",
       "      <td>3</td>\n",
       "      <td>1228786757623144448</td>\n",
       "      <td>dkaushik9</td>\n",
       "      <td>2020-02-15 21:02:47</td>\n",
       "      <td>India wants Narendra Modi and not Mahatma Gandhi.</td>\n",
       "      <td>{'neg': 0.0, 'neu': 1.0, 'pos': 0.0, 'compound...</td>\n",
       "    </tr>\n",
       "    <tr>\n",
       "      <td>3</td>\n",
       "      <td>4</td>\n",
       "      <td>1228786775679614976</td>\n",
       "      <td>IAmShereAalam</td>\n",
       "      <td>2020-02-15 21:02:51</td>\n",
       "      <td>RT @sanjivbhatt: Every Indian must watch this....</td>\n",
       "      <td>{'neg': 0.0, 'neu': 0.876, 'pos': 0.124, 'comp...</td>\n",
       "    </tr>\n",
       "    <tr>\n",
       "      <td>4</td>\n",
       "      <td>5</td>\n",
       "      <td>1228786857674063872</td>\n",
       "      <td>mohit55thaKur</td>\n",
       "      <td>2020-02-15 21:03:11</td>\n",
       "      <td>RT @ImtiazMadmood: \"Narendra Modi is a fascist...</td>\n",
       "      <td>{'neg': 0.211, 'neu': 0.703, 'pos': 0.086, 'co...</td>\n",
       "    </tr>\n",
       "  </tbody>\n",
       "</table>\n",
       "</div>"
      ],
      "text/plain": [
       "   id           twitter id    Screen_name                Time  \\\n",
       "0   1  1228786076631715840      isrgrajan 2020-02-15 21:00:05   \n",
       "1   2  1228786124098691072     Soni1Vicky 2020-02-15 21:00:16   \n",
       "2   3  1228786757623144448      dkaushik9 2020-02-15 21:02:47   \n",
       "3   4  1228786775679614976  IAmShereAalam 2020-02-15 21:02:51   \n",
       "4   5  1228786857674063872  mohit55thaKur 2020-02-15 21:03:11   \n",
       "\n",
       "                                             Comment  \\\n",
       "0  Important life lessons one can learn from Nare...   \n",
       "1  @FahadTISS @UmarKhalidJNU @naukarshah You're l...   \n",
       "2  India wants Narendra Modi and not Mahatma Gandhi.   \n",
       "3  RT @sanjivbhatt: Every Indian must watch this....   \n",
       "4  RT @ImtiazMadmood: \"Narendra Modi is a fascist...   \n",
       "\n",
       "                                              scores  \n",
       "0  {'neg': 0.0, 'neu': 0.87, 'pos': 0.13, 'compou...  \n",
       "1  {'neg': 0.0, 'neu': 0.792, 'pos': 0.208, 'comp...  \n",
       "2  {'neg': 0.0, 'neu': 1.0, 'pos': 0.0, 'compound...  \n",
       "3  {'neg': 0.0, 'neu': 0.876, 'pos': 0.124, 'comp...  \n",
       "4  {'neg': 0.211, 'neu': 0.703, 'pos': 0.086, 'co...  "
      ]
     },
     "execution_count": 51,
     "metadata": {
      "tags": []
     },
     "output_type": "execute_result"
    }
   ],
   "source": [
    "df.head()"
   ]
  },
  {
   "cell_type": "code",
   "execution_count": null,
   "metadata": {
    "id": "bSea4hpTlgcV"
   },
   "outputs": [],
   "source": [
    "df['compound'] = df['scores'].apply(lambda d:d['compound'])"
   ]
  },
  {
   "cell_type": "code",
   "execution_count": null,
   "metadata": {
    "id": "BeXqNV3rlgcc",
    "outputId": "a2ac0605-42f1-45a0-ea53-5fc4b2e3a0a1"
   },
   "outputs": [
    {
     "data": {
      "text/html": [
       "<div>\n",
       "<style scoped>\n",
       "    .dataframe tbody tr th:only-of-type {\n",
       "        vertical-align: middle;\n",
       "    }\n",
       "\n",
       "    .dataframe tbody tr th {\n",
       "        vertical-align: top;\n",
       "    }\n",
       "\n",
       "    .dataframe thead th {\n",
       "        text-align: right;\n",
       "    }\n",
       "</style>\n",
       "<table border=\"1\" class=\"dataframe\">\n",
       "  <thead>\n",
       "    <tr style=\"text-align: right;\">\n",
       "      <th></th>\n",
       "      <th>id</th>\n",
       "      <th>twitter id</th>\n",
       "      <th>Screen_name</th>\n",
       "      <th>Time</th>\n",
       "      <th>Comment</th>\n",
       "      <th>scores</th>\n",
       "      <th>compound</th>\n",
       "    </tr>\n",
       "  </thead>\n",
       "  <tbody>\n",
       "    <tr>\n",
       "      <td>0</td>\n",
       "      <td>1</td>\n",
       "      <td>1228786076631715840</td>\n",
       "      <td>isrgrajan</td>\n",
       "      <td>2020-02-15 21:00:05</td>\n",
       "      <td>Important life lessons one can learn from Nare...</td>\n",
       "      <td>{'neg': 0.0, 'neu': 0.87, 'pos': 0.13, 'compou...</td>\n",
       "      <td>0.2023</td>\n",
       "    </tr>\n",
       "    <tr>\n",
       "      <td>1</td>\n",
       "      <td>2</td>\n",
       "      <td>1228786124098691072</td>\n",
       "      <td>Soni1Vicky</td>\n",
       "      <td>2020-02-15 21:00:16</td>\n",
       "      <td>@FahadTISS @UmarKhalidJNU @naukarshah You're l...</td>\n",
       "      <td>{'neg': 0.0, 'neu': 0.792, 'pos': 0.208, 'comp...</td>\n",
       "      <td>0.6369</td>\n",
       "    </tr>\n",
       "    <tr>\n",
       "      <td>2</td>\n",
       "      <td>3</td>\n",
       "      <td>1228786757623144448</td>\n",
       "      <td>dkaushik9</td>\n",
       "      <td>2020-02-15 21:02:47</td>\n",
       "      <td>India wants Narendra Modi and not Mahatma Gandhi.</td>\n",
       "      <td>{'neg': 0.0, 'neu': 1.0, 'pos': 0.0, 'compound...</td>\n",
       "      <td>0.0000</td>\n",
       "    </tr>\n",
       "    <tr>\n",
       "      <td>3</td>\n",
       "      <td>4</td>\n",
       "      <td>1228786775679614976</td>\n",
       "      <td>IAmShereAalam</td>\n",
       "      <td>2020-02-15 21:02:51</td>\n",
       "      <td>RT @sanjivbhatt: Every Indian must watch this....</td>\n",
       "      <td>{'neg': 0.0, 'neu': 0.876, 'pos': 0.124, 'comp...</td>\n",
       "      <td>0.4003</td>\n",
       "    </tr>\n",
       "    <tr>\n",
       "      <td>4</td>\n",
       "      <td>5</td>\n",
       "      <td>1228786857674063872</td>\n",
       "      <td>mohit55thaKur</td>\n",
       "      <td>2020-02-15 21:03:11</td>\n",
       "      <td>RT @ImtiazMadmood: \"Narendra Modi is a fascist...</td>\n",
       "      <td>{'neg': 0.211, 'neu': 0.703, 'pos': 0.086, 'co...</td>\n",
       "      <td>-0.4939</td>\n",
       "    </tr>\n",
       "  </tbody>\n",
       "</table>\n",
       "</div>"
      ],
      "text/plain": [
       "   id           twitter id    Screen_name                Time  \\\n",
       "0   1  1228786076631715840      isrgrajan 2020-02-15 21:00:05   \n",
       "1   2  1228786124098691072     Soni1Vicky 2020-02-15 21:00:16   \n",
       "2   3  1228786757623144448      dkaushik9 2020-02-15 21:02:47   \n",
       "3   4  1228786775679614976  IAmShereAalam 2020-02-15 21:02:51   \n",
       "4   5  1228786857674063872  mohit55thaKur 2020-02-15 21:03:11   \n",
       "\n",
       "                                             Comment  \\\n",
       "0  Important life lessons one can learn from Nare...   \n",
       "1  @FahadTISS @UmarKhalidJNU @naukarshah You're l...   \n",
       "2  India wants Narendra Modi and not Mahatma Gandhi.   \n",
       "3  RT @sanjivbhatt: Every Indian must watch this....   \n",
       "4  RT @ImtiazMadmood: \"Narendra Modi is a fascist...   \n",
       "\n",
       "                                              scores  compound  \n",
       "0  {'neg': 0.0, 'neu': 0.87, 'pos': 0.13, 'compou...    0.2023  \n",
       "1  {'neg': 0.0, 'neu': 0.792, 'pos': 0.208, 'comp...    0.6369  \n",
       "2  {'neg': 0.0, 'neu': 1.0, 'pos': 0.0, 'compound...    0.0000  \n",
       "3  {'neg': 0.0, 'neu': 0.876, 'pos': 0.124, 'comp...    0.4003  \n",
       "4  {'neg': 0.211, 'neu': 0.703, 'pos': 0.086, 'co...   -0.4939  "
      ]
     },
     "execution_count": 53,
     "metadata": {
      "tags": []
     },
     "output_type": "execute_result"
    }
   ],
   "source": [
    "df.head()"
   ]
  },
  {
   "cell_type": "code",
   "execution_count": null,
   "metadata": {
    "id": "mvgsxKLGlgcj"
   },
   "outputs": [],
   "source": [
    "df['comp_score'] = df['compound'].apply(lambda score:'Strongly positive' if score>= 0.5 else\n",
    "                                        ('Weakly positive' if 0.3< score<0.5 else('Neutral' if 0<score<0.3 else 'Negative')))"
   ]
  },
  {
   "cell_type": "code",
   "execution_count": null,
   "metadata": {
    "id": "pP4RujcZlgcq",
    "outputId": "e8ea252a-9bf3-427f-b468-381fff6735ee"
   },
   "outputs": [
    {
     "data": {
      "text/html": [
       "<div>\n",
       "<style scoped>\n",
       "    .dataframe tbody tr th:only-of-type {\n",
       "        vertical-align: middle;\n",
       "    }\n",
       "\n",
       "    .dataframe tbody tr th {\n",
       "        vertical-align: top;\n",
       "    }\n",
       "\n",
       "    .dataframe thead th {\n",
       "        text-align: right;\n",
       "    }\n",
       "</style>\n",
       "<table border=\"1\" class=\"dataframe\">\n",
       "  <thead>\n",
       "    <tr style=\"text-align: right;\">\n",
       "      <th></th>\n",
       "      <th>id</th>\n",
       "      <th>twitter id</th>\n",
       "      <th>Screen_name</th>\n",
       "      <th>Time</th>\n",
       "      <th>Comment</th>\n",
       "      <th>scores</th>\n",
       "      <th>compound</th>\n",
       "      <th>comp_score</th>\n",
       "    </tr>\n",
       "  </thead>\n",
       "  <tbody>\n",
       "    <tr>\n",
       "      <td>0</td>\n",
       "      <td>1</td>\n",
       "      <td>1228786076631715840</td>\n",
       "      <td>isrgrajan</td>\n",
       "      <td>2020-02-15 21:00:05</td>\n",
       "      <td>Important life lessons one can learn from Nare...</td>\n",
       "      <td>{'neg': 0.0, 'neu': 0.87, 'pos': 0.13, 'compou...</td>\n",
       "      <td>0.2023</td>\n",
       "      <td>Neutral</td>\n",
       "    </tr>\n",
       "    <tr>\n",
       "      <td>1</td>\n",
       "      <td>2</td>\n",
       "      <td>1228786124098691072</td>\n",
       "      <td>Soni1Vicky</td>\n",
       "      <td>2020-02-15 21:00:16</td>\n",
       "      <td>@FahadTISS @UmarKhalidJNU @naukarshah You're l...</td>\n",
       "      <td>{'neg': 0.0, 'neu': 0.792, 'pos': 0.208, 'comp...</td>\n",
       "      <td>0.6369</td>\n",
       "      <td>Strongly positive</td>\n",
       "    </tr>\n",
       "    <tr>\n",
       "      <td>2</td>\n",
       "      <td>3</td>\n",
       "      <td>1228786757623144448</td>\n",
       "      <td>dkaushik9</td>\n",
       "      <td>2020-02-15 21:02:47</td>\n",
       "      <td>India wants Narendra Modi and not Mahatma Gandhi.</td>\n",
       "      <td>{'neg': 0.0, 'neu': 1.0, 'pos': 0.0, 'compound...</td>\n",
       "      <td>0.0000</td>\n",
       "      <td>Negative</td>\n",
       "    </tr>\n",
       "    <tr>\n",
       "      <td>3</td>\n",
       "      <td>4</td>\n",
       "      <td>1228786775679614976</td>\n",
       "      <td>IAmShereAalam</td>\n",
       "      <td>2020-02-15 21:02:51</td>\n",
       "      <td>RT @sanjivbhatt: Every Indian must watch this....</td>\n",
       "      <td>{'neg': 0.0, 'neu': 0.876, 'pos': 0.124, 'comp...</td>\n",
       "      <td>0.4003</td>\n",
       "      <td>Weakly positive</td>\n",
       "    </tr>\n",
       "    <tr>\n",
       "      <td>4</td>\n",
       "      <td>5</td>\n",
       "      <td>1228786857674063872</td>\n",
       "      <td>mohit55thaKur</td>\n",
       "      <td>2020-02-15 21:03:11</td>\n",
       "      <td>RT @ImtiazMadmood: \"Narendra Modi is a fascist...</td>\n",
       "      <td>{'neg': 0.211, 'neu': 0.703, 'pos': 0.086, 'co...</td>\n",
       "      <td>-0.4939</td>\n",
       "      <td>Negative</td>\n",
       "    </tr>\n",
       "    <tr>\n",
       "      <td>...</td>\n",
       "      <td>...</td>\n",
       "      <td>...</td>\n",
       "      <td>...</td>\n",
       "      <td>...</td>\n",
       "      <td>...</td>\n",
       "      <td>...</td>\n",
       "      <td>...</td>\n",
       "      <td>...</td>\n",
       "    </tr>\n",
       "    <tr>\n",
       "      <td>95</td>\n",
       "      <td>96</td>\n",
       "      <td>1228804111870701571</td>\n",
       "      <td>HaleemTorque</td>\n",
       "      <td>2020-02-15 22:11:45</td>\n",
       "      <td>RT @IAMCouncil: \"Of course, he is. I mean, fas...</td>\n",
       "      <td>{'neg': 0.205, 'neu': 0.795, 'pos': 0.0, 'comp...</td>\n",
       "      <td>-0.6597</td>\n",
       "      <td>Negative</td>\n",
       "    </tr>\n",
       "    <tr>\n",
       "      <td>96</td>\n",
       "      <td>97</td>\n",
       "      <td>1228804273263251456</td>\n",
       "      <td>ZackTaylorRP</td>\n",
       "      <td>2020-02-15 22:12:23</td>\n",
       "      <td>RT @RenovaMidia: #SemanaRENOVA\\n\\nO presidente...</td>\n",
       "      <td>{'neg': 0.0, 'neu': 1.0, 'pos': 0.0, 'compound...</td>\n",
       "      <td>0.0000</td>\n",
       "      <td>Negative</td>\n",
       "    </tr>\n",
       "    <tr>\n",
       "      <td>97</td>\n",
       "      <td>98</td>\n",
       "      <td>1228804534182477827</td>\n",
       "      <td>timeofaquarius</td>\n",
       "      <td>2020-02-15 22:13:25</td>\n",
       "      <td>RSS doesn't pull strings, they are conjoined t...</td>\n",
       "      <td>{'neg': 0.0, 'neu': 1.0, 'pos': 0.0, 'compound...</td>\n",
       "      <td>0.0000</td>\n",
       "      <td>Negative</td>\n",
       "    </tr>\n",
       "    <tr>\n",
       "      <td>98</td>\n",
       "      <td>99</td>\n",
       "      <td>1228804632585080834</td>\n",
       "      <td>abcunlimited1</td>\n",
       "      <td>2020-02-15 22:13:49</td>\n",
       "      <td>RT @sunandavashisht: Ouch, if this rag finds o...</td>\n",
       "      <td>{'neg': 0.0, 'neu': 0.85, 'pos': 0.15, 'compou...</td>\n",
       "      <td>0.5719</td>\n",
       "      <td>Strongly positive</td>\n",
       "    </tr>\n",
       "    <tr>\n",
       "      <td>99</td>\n",
       "      <td>100</td>\n",
       "      <td>1228804709777072129</td>\n",
       "      <td>nishant1224soni</td>\n",
       "      <td>2020-02-15 22:14:07</td>\n",
       "      <td>RT @flakeofice: Narendra modi fan has turned i...</td>\n",
       "      <td>{'neg': 0.0, 'neu': 0.685, 'pos': 0.315, 'comp...</td>\n",
       "      <td>0.5574</td>\n",
       "      <td>Strongly positive</td>\n",
       "    </tr>\n",
       "  </tbody>\n",
       "</table>\n",
       "<p>100 rows × 8 columns</p>\n",
       "</div>"
      ],
      "text/plain": [
       "     id           twitter id      Screen_name                Time  \\\n",
       "0     1  1228786076631715840        isrgrajan 2020-02-15 21:00:05   \n",
       "1     2  1228786124098691072       Soni1Vicky 2020-02-15 21:00:16   \n",
       "2     3  1228786757623144448        dkaushik9 2020-02-15 21:02:47   \n",
       "3     4  1228786775679614976    IAmShereAalam 2020-02-15 21:02:51   \n",
       "4     5  1228786857674063872    mohit55thaKur 2020-02-15 21:03:11   \n",
       "..  ...                  ...              ...                 ...   \n",
       "95   96  1228804111870701571     HaleemTorque 2020-02-15 22:11:45   \n",
       "96   97  1228804273263251456     ZackTaylorRP 2020-02-15 22:12:23   \n",
       "97   98  1228804534182477827   timeofaquarius 2020-02-15 22:13:25   \n",
       "98   99  1228804632585080834    abcunlimited1 2020-02-15 22:13:49   \n",
       "99  100  1228804709777072129  nishant1224soni 2020-02-15 22:14:07   \n",
       "\n",
       "                                              Comment  \\\n",
       "0   Important life lessons one can learn from Nare...   \n",
       "1   @FahadTISS @UmarKhalidJNU @naukarshah You're l...   \n",
       "2   India wants Narendra Modi and not Mahatma Gandhi.   \n",
       "3   RT @sanjivbhatt: Every Indian must watch this....   \n",
       "4   RT @ImtiazMadmood: \"Narendra Modi is a fascist...   \n",
       "..                                                ...   \n",
       "95  RT @IAMCouncil: \"Of course, he is. I mean, fas...   \n",
       "96  RT @RenovaMidia: #SemanaRENOVA\\n\\nO presidente...   \n",
       "97  RSS doesn't pull strings, they are conjoined t...   \n",
       "98  RT @sunandavashisht: Ouch, if this rag finds o...   \n",
       "99  RT @flakeofice: Narendra modi fan has turned i...   \n",
       "\n",
       "                                               scores  compound  \\\n",
       "0   {'neg': 0.0, 'neu': 0.87, 'pos': 0.13, 'compou...    0.2023   \n",
       "1   {'neg': 0.0, 'neu': 0.792, 'pos': 0.208, 'comp...    0.6369   \n",
       "2   {'neg': 0.0, 'neu': 1.0, 'pos': 0.0, 'compound...    0.0000   \n",
       "3   {'neg': 0.0, 'neu': 0.876, 'pos': 0.124, 'comp...    0.4003   \n",
       "4   {'neg': 0.211, 'neu': 0.703, 'pos': 0.086, 'co...   -0.4939   \n",
       "..                                                ...       ...   \n",
       "95  {'neg': 0.205, 'neu': 0.795, 'pos': 0.0, 'comp...   -0.6597   \n",
       "96  {'neg': 0.0, 'neu': 1.0, 'pos': 0.0, 'compound...    0.0000   \n",
       "97  {'neg': 0.0, 'neu': 1.0, 'pos': 0.0, 'compound...    0.0000   \n",
       "98  {'neg': 0.0, 'neu': 0.85, 'pos': 0.15, 'compou...    0.5719   \n",
       "99  {'neg': 0.0, 'neu': 0.685, 'pos': 0.315, 'comp...    0.5574   \n",
       "\n",
       "           comp_score  \n",
       "0             Neutral  \n",
       "1   Strongly positive  \n",
       "2            Negative  \n",
       "3     Weakly positive  \n",
       "4            Negative  \n",
       "..                ...  \n",
       "95           Negative  \n",
       "96           Negative  \n",
       "97           Negative  \n",
       "98  Strongly positive  \n",
       "99  Strongly positive  \n",
       "\n",
       "[100 rows x 8 columns]"
      ]
     },
     "execution_count": 55,
     "metadata": {
      "tags": []
     },
     "output_type": "execute_result"
    }
   ],
   "source": [
    "df"
   ]
  },
  {
   "cell_type": "code",
   "execution_count": null,
   "metadata": {
    "id": "sU39_-cElgcx",
    "outputId": "4c21946d-ec5d-4590-a7e3-fef4b1a7560b"
   },
   "outputs": [
    {
     "data": {
      "text/plain": [
       "Negative             73\n",
       "Strongly positive    20\n",
       "Weakly positive       5\n",
       "Neutral               2\n",
       "Name: comp_score, dtype: int64"
      ]
     },
     "execution_count": 56,
     "metadata": {
      "tags": []
     },
     "output_type": "execute_result"
    }
   ],
   "source": [
    "df1 = df['comp_score'].value_counts()\n",
    "df1"
   ]
  },
  {
   "cell_type": "code",
   "execution_count": null,
   "metadata": {
    "id": "xGNw6v_TlgdJ"
   },
   "outputs": [],
   "source": [
    "import matplotlib.pyplot as plt"
   ]
  },
  {
   "cell_type": "code",
   "execution_count": null,
   "metadata": {
    "id": "nEsfjdtTlgdT"
   },
   "outputs": [],
   "source": [
    "%matplotlib inline"
   ]
  },
  {
   "cell_type": "code",
   "execution_count": null,
   "metadata": {
    "id": "GuoGDSt8lgdc",
    "outputId": "9b7ed02c-12a1-4c6c-8ba5-0ef146316130"
   },
   "outputs": [
    {
     "data": {
      "image/png": "[encoded data removed]",
      "text/plain": [
       "<Figure size 432x288 with 1 Axes>"
      ]
     },
     "metadata": {
      "tags": []
     },
     "output_type": "display_data"
    }
   ],
   "source": [
    "\n",
    "labels = ['Negative','Strongly Positive','Weakly Positive','Neutral']\n",
    "colors = ['yellowgreen','lightgreen','darkgreen', 'gold']\n",
    "\n",
    "plt.title('Public view about Narendra Modi')\n",
    "plt.pie(df1,labels = labels,colors = colors,autopct = '%0.2f%%',radius = 1.5)\n",
    "       \n",
    "plt.legend(loc = 'lower left')\n",
    "plt.tight_layout()\n",
    "plt.axis('equal')\n",
    "plt.show()\n",
    "\n"
   ]
  },
  {
   "cell_type": "code",
   "execution_count": null,
   "metadata": {
    "id": "ZacJ1OkWlgdj"
   },
   "outputs": [],
   "source": []
  }
 ],
 "metadata": {
  "colab": {
   "name": "Sentiment Analysis Project.ipynb",
   "provenance": []
  },
  "kernelspec": {
   "display_name": "Python 3",
   "language": "python",
   "name": "python3"
  },
  "language_info": {
   "codemirror_mode": {
    "name": "ipython",
    "version": 3
   },
   "file_extension": ".py",
   "mimetype": "text/x-python",
   "name": "python",
   "nbconvert_exporter": "python",
   "pygments_lexer": "ipython3",
   "version": "3.8.3"
  }
 },
 "nbformat": 4,
 "nbformat_minor": 1
}
